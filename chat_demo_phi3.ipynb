{
 "cells": [
  {
   "cell_type": "markdown",
   "metadata": {},
   "source": [
    "# Local LLM Chat Demo - Phi-3-mini GGUF\n",
    "\n",
    "This notebook demonstrates a chat application using Microsoft's Phi-3-mini model with GGUF quantization for optimal CPU performance."
   ]
  },
  {
   "cell_type": "code",
   "execution_count": 1,
   "metadata": {},
   "outputs": [
    {
     "name": "stdout",
     "output_type": "stream",
     "text": [
      "Using llama-cpp-python for GGUF model support\n",
      "\n",
      "Note: First model load will download ~2.4GB. Subsequent runs will use cache.\n"
     ]
    }
   ],
   "source": [
    "# Install and import required libraries\n",
    "from llama_cpp import Llama\n",
    "import ipywidgets as widgets\n",
    "from IPython.display import display, HTML, clear_output\n",
    "from huggingface_hub import hf_hub_download\n",
    "import warnings\n",
    "import os\n",
    "warnings.filterwarnings('ignore')\n",
    "\n",
    "print(\"Using llama-cpp-python for GGUF model support\")\n",
    "print(\"\\nNote: First model load will download ~2.4GB. Subsequent runs will use cache.\")"
   ]
  },
  {
   "cell_type": "markdown",
   "metadata": {},
   "source": [
    "## Load the Model\n",
    "\n",
    "We're using Phi-3-mini-4k-instruct Q4_K_M quantization for optimal CPU performance."
   ]
  },
  {
   "cell_type": "code",
   "execution_count": 2,
   "metadata": {},
   "outputs": [
    {
     "name": "stdout",
     "output_type": "stream",
     "text": [
      "Downloading Phi-3-mini-4k-instruct-q4.gguf from Hugging Face...\n"
     ]
    },
    {
     "data": {
      "application/vnd.jupyter.widget-view+json": {
       "model_id": "ee7f77ab53724ef1b43ff6439ff68de6",
       "version_major": 2,
       "version_minor": 0
      },
      "text/plain": [
       "Phi-3-mini-4k-instruct-q4.gguf:   0%|          | 0.00/2.39G [00:00<?, ?B/s]"
      ]
     },
     "metadata": {},
     "output_type": "display_data"
    },
    {
     "name": "stdout",
     "output_type": "stream",
     "text": [
      "Model downloaded to: /home/randall/.cache/huggingface/hub/models--microsoft--Phi-3-mini-4k-instruct-gguf/snapshots/999f761fe19e26cf1a339a5ec5f9f201301cbb83/Phi-3-mini-4k-instruct-q4.gguf\n",
      "\n",
      "Loading model... This may take a moment.\n",
      "Model loaded: Phi-3-mini-4k-instruct (Q4_K_M)\n",
      "Using 7 CPU threads\n"
     ]
    }
   ],
   "source": [
    "# Download the GGUF model\n",
    "model_name = \"microsoft/Phi-3-mini-4k-instruct-gguf\"\n",
    "model_file = \"Phi-3-mini-4k-instruct-q4.gguf\"  # Q4_K_M quantized version\n",
    "\n",
    "print(f\"Downloading {model_file} from Hugging Face...\")\n",
    "model_path = hf_hub_download(\n",
    "    repo_id=model_name,\n",
    "    filename=model_file,\n",
    "    resume_download=True\n",
    ")\n",
    "print(f\"Model downloaded to: {model_path}\")\n",
    "\n",
    "# Load the model\n",
    "print(\"\\nLoading model... This may take a moment.\")\n",
    "llm = Llama(\n",
    "    model_path=model_path,\n",
    "    n_ctx=4096,  # Context window\n",
    "    n_threads=os.cpu_count() - 1,  # Use all CPU threads minus one\n",
    "    n_gpu_layers=0,  # CPU only\n",
    "    verbose=False\n",
    ")\n",
    "print(f\"Model loaded: Phi-3-mini-4k-instruct (Q4_K_M)\")\n",
    "print(f\"Using {os.cpu_count() - 1} CPU threads\")"
   ]
  },
  {
   "cell_type": "markdown",
   "metadata": {},
   "source": [
    "## Chat Interface Setup"
   ]
  },
  {
   "cell_type": "code",
   "execution_count": 3,
   "metadata": {},
   "outputs": [],
   "source": [
    "# Initialize chat history\n",
    "chat_history = []\n",
    "\n",
    "def format_chat_prompt(message, history):\n",
    "    \"\"\"Format the chat history for Phi-3 using the official template.\"\"\"\n",
    "    prompt = \"<|system|>\\nYou are a helpful AI assistant.<|end|>\\n\"\n",
    "    \n",
    "    for user_msg, assistant_msg in history:\n",
    "        prompt += f\"<|user|>\\n{user_msg}<|end|>\\n\"\n",
    "        prompt += f\"<|assistant|>\\n{assistant_msg}<|end|>\\n\"\n",
    "    \n",
    "    prompt += f\"<|user|>\\n{message}<|end|>\\n<|assistant|>\\n\"\n",
    "    return prompt\n",
    "\n",
    "def generate_response(message, history, max_tokens=200, temperature=0.7):\n",
    "    \"\"\"Generate a response from the model.\"\"\"\n",
    "    prompt = format_chat_prompt(message, history)\n",
    "    \n",
    "    # Generate response\n",
    "    response = llm(\n",
    "        prompt,\n",
    "        max_tokens=max_tokens,\n",
    "        temperature=temperature,\n",
    "        stop=[\"<|end|>\", \"<|user|>\", \"<|assistant|>\"],\n",
    "        echo=False\n",
    "    )\n",
    "    \n",
    "    # Extract the generated text\n",
    "    response_text = response['choices'][0]['text'].strip()\n",
    "    \n",
    "    return response_text"
   ]
  },
  {
   "cell_type": "markdown",
   "metadata": {},
   "source": [
    "## Interactive Chat Widget"
   ]
  },
  {
   "cell_type": "code",
   "execution_count": 4,
   "metadata": {},
   "outputs": [
    {
     "data": {
      "text/html": [
       "<h3 style=\"color:#333;\">Chat with Phi-3-mini (GGUF)</h3>"
      ],
      "text/plain": [
       "<IPython.core.display.HTML object>"
      ]
     },
     "metadata": {},
     "output_type": "display_data"
    },
    {
     "data": {
      "application/vnd.jupyter.widget-view+json": {
       "model_id": "e8ac473731a14a8aa47871c8e10570d7",
       "version_major": 2,
       "version_minor": 0
      },
      "text/plain": [
       "VBox(children=(HBox(children=(FloatSlider(value=0.7, description='Temperature:', max=1.0, min=0.1, tooltip='Hi…"
      ]
     },
     "metadata": {},
     "output_type": "display_data"
    }
   ],
   "source": [
    "# Create chat interface widgets\n",
    "chat_output = widgets.Output()\n",
    "input_text = widgets.Text(\n",
    "    placeholder='Type your message here...',\n",
    "    description='You:',\n",
    "    layout=widgets.Layout(width='70%')\n",
    ")\n",
    "send_button = widgets.Button(\n",
    "    description='Send',\n",
    "    button_style='primary'\n",
    ")\n",
    "clear_button = widgets.Button(\n",
    "    description='Clear Chat',\n",
    "    button_style='warning'\n",
    ")\n",
    "\n",
    "# Settings\n",
    "temp_slider = widgets.FloatSlider(\n",
    "    value=0.7,\n",
    "    min=0.1,\n",
    "    max=1.0,\n",
    "    step=0.1,\n",
    "    description='Temperature:',\n",
    "    tooltip='Higher = more creative, Lower = more focused'\n",
    ")\n",
    "max_tokens_slider = widgets.IntSlider(\n",
    "    value=200,\n",
    "    min=50,\n",
    "    max=500,\n",
    "    step=50,\n",
    "    description='Max Tokens:',\n",
    "    tooltip='Maximum length of response'\n",
    ")\n",
    "\n",
    "def display_message(role, message):\n",
    "    \"\"\"Display a message in the chat output.\"\"\"\n",
    "    with chat_output:\n",
    "        if role == \"user\":\n",
    "            display(HTML(f'<div style=\"background-color:#e3f2fd; color:#1e3a5f; padding:10px; margin:5px; border-radius:10px;\"><b>You:</b> {message}</div>'))\n",
    "        else:\n",
    "            display(HTML(f'<div style=\"background-color:#f0f0f0; color:#333333; padding:10px; margin:5px; border-radius:10px;\"><b>Assistant:</b> {message}</div>'))\n",
    "\n",
    "def on_send_click(b):\n",
    "    \"\"\"Handle send button click.\"\"\"\n",
    "    global chat_history\n",
    "    \n",
    "    user_message = input_text.value\n",
    "    if not user_message:\n",
    "        return\n",
    "    \n",
    "    # Display user message\n",
    "    display_message(\"user\", user_message)\n",
    "    \n",
    "    # Show thinking indicator\n",
    "    with chat_output:\n",
    "        display(HTML('<div style=\"color:#666; font-style:italic;\">Assistant is thinking...</div>'))\n",
    "    \n",
    "    # Generate response\n",
    "    response = generate_response(\n",
    "        user_message, \n",
    "        chat_history,\n",
    "        max_tokens=max_tokens_slider.value,\n",
    "        temperature=temp_slider.value\n",
    "    )\n",
    "    \n",
    "    # Clear thinking indicator and display response\n",
    "    with chat_output:\n",
    "        clear_output()\n",
    "        # Redisplay chat history\n",
    "        for user_msg, assistant_msg in chat_history:\n",
    "            display_message(\"user\", user_msg)\n",
    "            display_message(\"assistant\", assistant_msg)\n",
    "        display_message(\"user\", user_message)\n",
    "        display_message(\"assistant\", response)\n",
    "    \n",
    "    # Update chat history\n",
    "    chat_history.append((user_message, response))\n",
    "    \n",
    "    # Clear input\n",
    "    input_text.value = \"\"\n",
    "\n",
    "def on_clear_click(b):\n",
    "    \"\"\"Handle clear button click.\"\"\"\n",
    "    global chat_history\n",
    "    chat_history = []\n",
    "    with chat_output:\n",
    "        clear_output()\n",
    "        display(HTML('<div style=\"color:#666; font-style:italic;\">Chat cleared. Start a new conversation!</div>'))\n",
    "\n",
    "# Connect buttons to functions\n",
    "send_button.on_click(on_send_click)\n",
    "clear_button.on_click(on_clear_click)\n",
    "input_text.on_submit(on_send_click)\n",
    "\n",
    "# Display the chat interface\n",
    "display(HTML('<h3 style=\"color:#333;\">Chat with Phi-3-mini (GGUF)</h3>'))\n",
    "display(widgets.VBox([\n",
    "    widgets.HBox([temp_slider, max_tokens_slider]),\n",
    "    chat_output,\n",
    "    widgets.HBox([input_text, send_button, clear_button])\n",
    "]))\n",
    "\n",
    "# Initial greeting\n",
    "with chat_output:\n",
    "    display(HTML('<div style=\"color:#666; font-style:italic;\">Hello! I\\'m Phi-3-mini running locally with GGUF quantization. Type a message to start chatting!</div>'))"
   ]
  },
  {
   "cell_type": "markdown",
   "metadata": {},
   "source": [
    "## Simple Text-Based Chat (Alternative)\n",
    "\n",
    "If you prefer a simpler interface without widgets:"
   ]
  },
  {
   "cell_type": "code",
   "execution_count": null,
   "metadata": {},
   "outputs": [],
   "source": [
    "def simple_chat():\n",
    "    \"\"\"Simple text-based chat function.\"\"\"\n",
    "    print(\"Simple Chat with Phi-3-mini\")\n",
    "    print(\"Type 'quit' to exit\")\n",
    "    print(\"-\" * 50)\n",
    "    \n",
    "    history = []\n",
    "    \n",
    "    while True:\n",
    "        user_input = input(\"\\nYou: \")\n",
    "        \n",
    "        if user_input.lower() == 'quit':\n",
    "            print(\"Goodbye!\")\n",
    "            break\n",
    "        \n",
    "        print(\"Assistant is thinking...\")\n",
    "        response = generate_response(user_input, history)\n",
    "        print(f\"\\nAssistant: {response}\")\n",
    "        \n",
    "        history.append((user_input, response))\n",
    "\n",
    "# Uncomment to run the simple chat\n",
    "# simple_chat()"
   ]
  },
  {
   "cell_type": "markdown",
   "metadata": {},
   "source": [
    "## Performance Tips\n",
    "\n",
    "1. **CPU Threads**: The model is configured to use all available CPU threads minus one\n",
    "2. **Context Length**: Set to 4096 tokens (Phi-3's native context)\n",
    "3. **Quantization**: Q4_K_M provides the best balance of quality and speed\n",
    "4. **Temperature**: Lower values (0.3-0.5) for more focused responses, higher (0.7-0.9) for creativity\n",
    "\n",
    "This model should run 2-3x faster than the previous Phi-2 float32 version!"
   ]
  }
 ],
 "metadata": {
  "kernelspec": {
   "display_name": "Python 3 (ipykernel)",
   "language": "python",
   "name": "python3"
  },
  "language_info": {
   "codemirror_mode": {
    "name": "ipython",
    "version": 3
   },
   "file_extension": ".py",
   "mimetype": "text/x-python",
   "name": "python",
   "nbconvert_exporter": "python",
   "pygments_lexer": "ipython3",
   "version": "3.11.13"
  }
 },
 "nbformat": 4,
 "nbformat_minor": 4
}
